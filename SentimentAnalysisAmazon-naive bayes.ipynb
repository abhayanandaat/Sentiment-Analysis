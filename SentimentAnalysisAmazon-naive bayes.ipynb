{
 "cells": [
  {
   "cell_type": "code",
   "execution_count": 6,
   "metadata": {},
   "outputs": [],
   "source": [
    "import pandas as pd\n",
    "import numpy as np\n",
    "import seaborn as sns\n",
    "import sklearn\n",
    "import os\n",
    "import xml.etree.ElementTree as ET\n",
    "%matplotlib inline"
   ]
  },
  {
   "cell_type": "code",
   "execution_count": 7,
   "metadata": {},
   "outputs": [
    {
     "name": "stdout",
     "output_type": "stream",
     "text": [
      "<review>\n",
      "\n",
      "<unique_id>\n",
      "\n",
      "0375416811:founder_of_chick_lit:erin_oakes_\"avid_reader\"\n",
      "\n",
      "</unique_id>\n",
      "\n",
      "<unique_id>\n",
      "\n",
      "1521\n",
      "\n",
      "</unique_id>\n",
      "\n",
      "<asin>\n",
      "\n",
      "0375416811\n",
      "\n",
      "</asin>\n",
      "\n",
      "<product_name>\n",
      "\n",
      "Bridget Jones Diary: Books: Helen Fielding,Tracie Bennett\n",
      "\n",
      "</product_name>\n",
      "\n",
      "<product_type>\n",
      "\n",
      "books\n",
      "\n",
      "</product_type>\n",
      "\n",
      "<product_type>\n",
      "\n",
      "books\n",
      "\n",
      "</product_type>\n",
      "\n",
      "<helpful>\n",
      "\n",
      "\n",
      "\n",
      "</helpful>\n",
      "\n",
      "<rating>\n",
      "\n",
      "5.0\n",
      "\n",
      "</rating>\n",
      "\n",
      "<title>\n",
      "\n",
      "Founder of chick lit\n",
      "\n",
      "</title>\n",
      "\n",
      "<date>\n",
      "\n",
      "August 24, 2006\n",
      "\n",
      "</date>\n",
      "\n",
      "<reviewer>\n",
      "\n",
      "Erin Oakes \"avid reader\"\n",
      "\n",
      "</reviewer>\n",
      "\n",
      "<reviewer_location>\n",
      "\n",
      "Central PA\n",
      "\n",
      "</reviewer_location>\n",
      "\n",
      "<review_text>\n",
      "\n",
      "Bridget Jones, modern day woman, brillant and doesn't know it, prone to accidents and mess ups but manages to come out of them.  \n",
      "\n",
      "\n",
      "\n",
      "This is the book that started it all with the chick lit fever.  Bridget Jones is my hero! \n",
      "\n",
      "</review_text>\n",
      "\n",
      "</review>\n",
      "\n",
      "<review>\n",
      "\n",
      "<unique_id>\n",
      "\n",
      "188105201X:excellent_resource_for_principals!:onickre@mail.milwaukee.k12.wi.us\n",
      "\n",
      "</unique_id>\n",
      "\n",
      "<unique_id>\n",
      "\n",
      "3294\n",
      "\n",
      "</unique_id>\n",
      "\n",
      "<asin>\n",
      "\n",
      "188105201X\n",
      "\n",
      "</asin>\n",
      "\n",
      "<product_name>\n",
      "\n",
      "Leadership and the New Science: Learning About Organization from an Orderly Universe: Books: Margaret J. Wheatley\n",
      "\n",
      "</product_name>\n",
      "\n",
      "<product_type>\n",
      "\n",
      "books\n",
      "\n",
      "</product_type>\n",
      "\n",
      "<product_type>\n",
      "\n",
      "books\n",
      "\n",
      "</product_type>\n",
      "\n",
      "<helpful>\n",
      "\n",
      "3 of 3\n",
      "\n",
      "</helpful>\n",
      "\n",
      "<rating>\n",
      "\n",
      "5.0\n",
      "\n",
      "</rating>\n",
      "\n",
      "<title>\n",
      "\n",
      "Excellent resource for principals!\n",
      "\n",
      "</title>\n",
      "\n",
      "<date>\n",
      "\n",
      "July 6, 1999\n",
      "\n",
      "</date>\n",
      "\n",
      "<reviewer>\n",
      "\n",
      "ONICKRE@mail.milwaukee.k12.wi.us\n",
      "\n",
      "</reviewer>\n",
      "\n",
      "<reviewer_location>\n",
      "\n",
      "Milwaukee, Wisconsin\n",
      "\n",
      "</reviewer_location>\n",
      "\n",
      "<review_text>\n",
      "\n",
      "I am ordering copies for all 23 middle school principals and the two assistant principals leading two middle school programs in the Milwaukee Public Schools system. We will use Wheatley's book as the primary resource  for our professional growth at our MPS Middle School Principals  Collaborative institute August 9-11, 1999. We are not just concerned with  reform; we seek renewal as well. Wheatley provides the basis. She notes  that Einstein said that  a problem cannot be solved from the same  consciousness that created it. The entire book is a marvelous exploration  of this philosophy\n",
      "\n",
      "</review_text>\n",
      "\n",
      "</review>\n",
      "\n",
      "<review>\n",
      "\n",
      "<unique_id>\n",
      "\n",
      "0634079190:fun_to_play:michael_p._nolan\n",
      "\n",
      "</unique_id>\n",
      "\n",
      "<unique_id>\n",
      "\n",
      "3398\n",
      "\n",
      "</unique_id>\n",
      "\n",
      "<asin>\n",
      "\n",
      "0634079190\n",
      "\n",
      "</asin>\n",
      "\n",
      "<product_name>\n",
      "\n",
      "Avenue Q - The Musical (Piano/Vocal arrangement): Books: Robert Lopez,Jeff Marx\n",
      "\n",
      "</product_name>\n",
      "\n",
      "<product_type>\n",
      "\n",
      "books\n",
      "\n",
      "</product_type>\n",
      "\n"
     ]
    }
   ],
   "source": [
    "readMe = open('positive.review','r',encoding=\"utf-8\",errors=\"ignore\").readlines() \n",
    "for i in range(100):\n",
    "    print(readMe[i])"
   ]
  },
  {
   "cell_type": "code",
   "execution_count": 8,
   "metadata": {},
   "outputs": [
    {
     "name": "stdout",
     "output_type": "stream",
     "text": [
      "1000\n",
      "1000\n"
     ]
    }
   ],
   "source": [
    "BooksPositRev = open('positive.review','r',encoding=\"utf-8\",errors=\"ignore\").readlines() \n",
    "BooksNegatRev = open('negative.review','r',encoding=\"utf-8\",errors=\"ignore\").readlines() \n",
    "\n",
    "print(BooksNegatRev.count('</review>\\n'))\n",
    "print(BooksPositRev.count('</review>\\n'))"
   ]
  },
  {
   "cell_type": "code",
   "execution_count": 9,
   "metadata": {
    "scrolled": false
   },
   "outputs": [],
   "source": [
    "def Processing_XML_Reviews_Dictionnaire(ListReviews):\n",
    "    count = 0\n",
    "    Review = []\n",
    "    Reviews = {}\n",
    "    for i in range(len(ListReviews)):\n",
    "        if ListReviews[i] != '</review>\\n':\n",
    "            if ListReviews[i] == '<review>\\n' and ListReviews[i+1] == '<unique_id>\\n':                \n",
    "                Review.append('unique_id/'+ListReviews[i+2])\n",
    "            if  ListReviews[i] == '<asin>\\n':\n",
    "                Review.append('asin/'+ListReviews[i+1])    \n",
    "            if  ListReviews[i] == '<product_name>\\n':\n",
    "                Review.append('product_name/'+ListReviews[i+1])\n",
    "            if ListReviews[i] == '<helpful>\\n':\n",
    "                Review.append('helpful/'+ListReviews[i+1])\n",
    "            if ListReviews[i] == '<rating>\\n':\n",
    "                Review.append('rating/'+ListReviews[i+1])\n",
    "            if ListReviews[i] == '<title>\\n':\n",
    "                Review.append('title/'+ListReviews[i+1])\n",
    "            if ListReviews[i] == '<date>\\n':\n",
    "                Review.append('date/'+ListReviews[i+1])\n",
    "            if ListReviews[i] == '<reviewer>\\n':\n",
    "                Review.append('reviewer/'+ListReviews[i+1])\n",
    "            if ListReviews[i] == '<reviewer_location>\\n':\n",
    "                Review.append('reviewer_location/'+ListReviews[i+1])\n",
    "            if ListReviews[i] == '<review_text>\\n':\n",
    "                Review.append('review_text/'+ListReviews[i+1])\n",
    "        elif ListReviews[i] == '</review>\\n':\n",
    "            count = count + 1\n",
    "            r = 'review'+ str(count) \n",
    "            Reviews[r] = Review\n",
    "            \n",
    "            Review = []\n",
    "    return Reviews\n",
    "\n"
   ]
  },
  {
   "cell_type": "code",
   "execution_count": 10,
   "metadata": {},
   "outputs": [
    {
     "data": {
      "text/plain": [
       "['unique_id/0375416811:founder_of_chick_lit:erin_oakes_\"avid_reader\"\\n',\n",
       " 'asin/0375416811\\n',\n",
       " 'product_name/Bridget Jones Diary: Books: Helen Fielding,Tracie Bennett\\n',\n",
       " 'helpful/\\n',\n",
       " 'rating/5.0\\n',\n",
       " 'title/Founder of chick lit\\n',\n",
       " 'date/August 24, 2006\\n',\n",
       " 'reviewer/Erin Oakes \"avid reader\"\\n',\n",
       " 'reviewer_location/Central PA\\n',\n",
       " \"review_text/Bridget Jones, modern day woman, brillant and doesn't know it, prone to accidents and mess ups but manages to come out of them.  \\n\"]"
      ]
     },
     "execution_count": 10,
     "metadata": {},
     "output_type": "execute_result"
    }
   ],
   "source": [
    "NegRev_Dict = Processing_XML_Reviews_Dictionnaire(BooksNegatRev)\n",
    "posRev_Dict = Processing_XML_Reviews_Dictionnaire(BooksPositRev)\n",
    "posRev_Dict['review1']"
   ]
  },
  {
   "cell_type": "code",
   "execution_count": 11,
   "metadata": {
    "scrolled": true
   },
   "outputs": [
    {
     "name": "stdout",
     "output_type": "stream",
     "text": [
      "1000\n",
      "1000\n"
     ]
    },
    {
     "data": {
      "text/plain": [
       "['unique_id/0134744799:useful_but_over_priced:\"tseant\"\\n',\n",
       " 'asin/0134744799\\n',\n",
       " 'product_name/International Accounting Second Edition: Books\\n',\n",
       " 'helpful/6 of 8\\n',\n",
       " 'rating/1.0\\n',\n",
       " 'title/Useful but over priced\\n',\n",
       " 'date/February 4, 2001\\n',\n",
       " 'reviewer/\"tseant\"\\n',\n",
       " 'reviewer_location/Tokyo, Japan (formerly Sydney, Australia\\n',\n",
       " 'review_text/A useful book that provides a good summary comparing differing Accounting Standards and approaches between countries.  However, it is not worth the price.  It is supposedly written for later year undergraduate and masters accounting students.  It is more suitable for general second year accounting students.  Plus, as I am working with a multinational European bank in Japan, the book is, rapidly becoming, out of date.  There is none of the simply but incisive commentary which can be found in other books about the differences and outcomes of general accounting principals drawn from different countries\\n']"
      ]
     },
     "execution_count": 11,
     "metadata": {},
     "output_type": "execute_result"
    }
   ],
   "source": [
    "print(len(NegRev_Dict))\n",
    "print(len(posRev_Dict))\n",
    "NegRev_Dict['review852']\n",
    "\n"
   ]
  },
  {
   "cell_type": "code",
   "execution_count": 12,
   "metadata": {},
   "outputs": [],
   "source": [
    "def Porcessing_Dictonnary_ToDataFrame(Dict):\n",
    "    df = pd.DataFrame(columns=['unique_id','asin','product_name','helpful','rating','title',\n",
    "                    'date','reviewer','reviewer_location','review_text'])\n",
    "    count = 0\n",
    "    for i,k in Dict.items():\n",
    "        df.loc[count] = [k[0].split(\"/\")[1].split(\"\\n\")[0],k[1].split(\"/\")[1].split(\"\\n\")[0]\n",
    "                              ,k[2].split(\"/\")[1].split(\"\\n\")[0],k[3].split(\"/\")[1].split(\"\\n\")[0]\n",
    "                              ,k[4].split(\"/\")[1].split(\"\\n\")[0],k[5].split(\"/\")[1].split(\"\\n\")[0]\n",
    "                              ,k[6].split(\"/\")[1].split(\"\\n\")[0],k[7].split(\"/\")[1].split(\"\\n\")[0]\n",
    "                              ,k[8].split(\"/\")[1].split(\"\\n\")[0],k[9].split(\"/\")[1].split(\"\\n\")[0]\n",
    "        ]\n",
    "        count = count + 1\n",
    "\n",
    "    return df"
   ]
  },
  {
   "cell_type": "code",
   "execution_count": 13,
   "metadata": {},
   "outputs": [],
   "source": [
    "BooksNeg = Porcessing_Dictonnary_ToDataFrame(NegRev_Dict)\n",
    "BooksPos = Porcessing_Dictonnary_ToDataFrame(posRev_Dict)"
   ]
  },
  {
   "cell_type": "code",
   "execution_count": 14,
   "metadata": {},
   "outputs": [
    {
     "data": {
      "text/html": [
       "<div>\n",
       "<style scoped>\n",
       "    .dataframe tbody tr th:only-of-type {\n",
       "        vertical-align: middle;\n",
       "    }\n",
       "\n",
       "    .dataframe tbody tr th {\n",
       "        vertical-align: top;\n",
       "    }\n",
       "\n",
       "    .dataframe thead th {\n",
       "        text-align: right;\n",
       "    }\n",
       "</style>\n",
       "<table border=\"1\" class=\"dataframe\">\n",
       "  <thead>\n",
       "    <tr style=\"text-align: right;\">\n",
       "      <th></th>\n",
       "      <th>unique_id</th>\n",
       "      <th>asin</th>\n",
       "      <th>product_name</th>\n",
       "      <th>helpful</th>\n",
       "      <th>rating</th>\n",
       "      <th>title</th>\n",
       "      <th>date</th>\n",
       "      <th>reviewer</th>\n",
       "      <th>reviewer_location</th>\n",
       "      <th>review_text</th>\n",
       "    </tr>\n",
       "  </thead>\n",
       "  <tbody>\n",
       "    <tr>\n",
       "      <td>0</td>\n",
       "      <td>0743518144:ok~_but_i_think_the_keirsey_temperm...</td>\n",
       "      <td>0743518144</td>\n",
       "      <td>Now, Discover Your Strengths: Books: Marcus Bu...</td>\n",
       "      <td>7 of 8</td>\n",
       "      <td>2.0</td>\n",
       "      <td>Ok~ but I think the Keirsey Temperment Test is...</td>\n",
       "      <td>September 10, 2006</td>\n",
       "      <td>Jen \"the truthsayer\"</td>\n",
       "      <td>DE, USA</td>\n",
       "      <td>This book has its good points. If anything, it...</td>\n",
       "    </tr>\n",
       "    <tr>\n",
       "      <td>1</td>\n",
       "      <td>0895261715:repellent_sale_of_conservativism:e....</td>\n",
       "      <td>0895261715</td>\n",
       "      <td>The Conservative Mind: From Burke to Eliot: Bo...</td>\n",
       "      <td>32 of 95</td>\n",
       "      <td>2.0</td>\n",
       "      <td>Repellent Sale of Conservativism</td>\n",
       "      <td>August 18, 2005</td>\n",
       "      <td>E. David Swan</td>\n",
       "      <td>South Euclid, Ohio USA</td>\n",
       "      <td>The fatalistic view of Conservativism is expre...</td>\n",
       "    </tr>\n",
       "  </tbody>\n",
       "</table>\n",
       "</div>"
      ],
      "text/plain": [
       "                                           unique_id        asin  \\\n",
       "0  0743518144:ok~_but_i_think_the_keirsey_temperm...  0743518144   \n",
       "1  0895261715:repellent_sale_of_conservativism:e....  0895261715   \n",
       "\n",
       "                                        product_name   helpful rating  \\\n",
       "0  Now, Discover Your Strengths: Books: Marcus Bu...    7 of 8    2.0   \n",
       "1  The Conservative Mind: From Burke to Eliot: Bo...  32 of 95    2.0   \n",
       "\n",
       "                                               title                date  \\\n",
       "0  Ok~ but I think the Keirsey Temperment Test is...  September 10, 2006   \n",
       "1                   Repellent Sale of Conservativism     August 18, 2005   \n",
       "\n",
       "               reviewer       reviewer_location  \\\n",
       "0  Jen \"the truthsayer\"                 DE, USA   \n",
       "1         E. David Swan  South Euclid, Ohio USA   \n",
       "\n",
       "                                         review_text  \n",
       "0  This book has its good points. If anything, it...  \n",
       "1  The fatalistic view of Conservativism is expre...  "
      ]
     },
     "execution_count": 14,
     "metadata": {},
     "output_type": "execute_result"
    }
   ],
   "source": [
    "BooksNeg.head(n=2)"
   ]
  },
  {
   "cell_type": "code",
   "execution_count": 15,
   "metadata": {
    "scrolled": false
   },
   "outputs": [
    {
     "data": {
      "text/html": [
       "<div>\n",
       "<style scoped>\n",
       "    .dataframe tbody tr th:only-of-type {\n",
       "        vertical-align: middle;\n",
       "    }\n",
       "\n",
       "    .dataframe tbody tr th {\n",
       "        vertical-align: top;\n",
       "    }\n",
       "\n",
       "    .dataframe thead th {\n",
       "        text-align: right;\n",
       "    }\n",
       "</style>\n",
       "<table border=\"1\" class=\"dataframe\">\n",
       "  <thead>\n",
       "    <tr style=\"text-align: right;\">\n",
       "      <th></th>\n",
       "      <th>unique_id</th>\n",
       "      <th>asin</th>\n",
       "      <th>product_name</th>\n",
       "      <th>helpful</th>\n",
       "      <th>rating</th>\n",
       "      <th>title</th>\n",
       "      <th>date</th>\n",
       "      <th>reviewer</th>\n",
       "      <th>reviewer_location</th>\n",
       "      <th>review_text</th>\n",
       "    </tr>\n",
       "  </thead>\n",
       "  <tbody>\n",
       "    <tr>\n",
       "      <td>0</td>\n",
       "      <td>0375416811:founder_of_chick_lit:erin_oakes_\"av...</td>\n",
       "      <td>0375416811</td>\n",
       "      <td>Bridget Jones Diary: Books: Helen Fielding,Tra...</td>\n",
       "      <td></td>\n",
       "      <td>5.0</td>\n",
       "      <td>Founder of chick lit</td>\n",
       "      <td>August 24, 2006</td>\n",
       "      <td>Erin Oakes \"avid reader\"</td>\n",
       "      <td>Central PA</td>\n",
       "      <td>Bridget Jones, modern day woman, brillant and ...</td>\n",
       "    </tr>\n",
       "    <tr>\n",
       "      <td>1</td>\n",
       "      <td>188105201X:excellent_resource_for_principals!:...</td>\n",
       "      <td>188105201X</td>\n",
       "      <td>Leadership and the New Science: Learning About...</td>\n",
       "      <td>3 of 3</td>\n",
       "      <td>5.0</td>\n",
       "      <td>Excellent resource for principals!</td>\n",
       "      <td>July 6, 1999</td>\n",
       "      <td>ONICKRE@mail.milwaukee.k12.wi.us</td>\n",
       "      <td>Milwaukee, Wisconsin</td>\n",
       "      <td>I am ordering copies for all 23 middle school ...</td>\n",
       "    </tr>\n",
       "  </tbody>\n",
       "</table>\n",
       "</div>"
      ],
      "text/plain": [
       "                                           unique_id        asin  \\\n",
       "0  0375416811:founder_of_chick_lit:erin_oakes_\"av...  0375416811   \n",
       "1  188105201X:excellent_resource_for_principals!:...  188105201X   \n",
       "\n",
       "                                        product_name helpful rating  \\\n",
       "0  Bridget Jones Diary: Books: Helen Fielding,Tra...            5.0   \n",
       "1  Leadership and the New Science: Learning About...  3 of 3    5.0   \n",
       "\n",
       "                                title             date  \\\n",
       "0                Founder of chick lit  August 24, 2006   \n",
       "1  Excellent resource for principals!     July 6, 1999   \n",
       "\n",
       "                           reviewer     reviewer_location  \\\n",
       "0          Erin Oakes \"avid reader\"            Central PA   \n",
       "1  ONICKRE@mail.milwaukee.k12.wi.us  Milwaukee, Wisconsin   \n",
       "\n",
       "                                         review_text  \n",
       "0  Bridget Jones, modern day woman, brillant and ...  \n",
       "1  I am ordering copies for all 23 middle school ...  "
      ]
     },
     "execution_count": 15,
     "metadata": {},
     "output_type": "execute_result"
    }
   ],
   "source": [
    "BooksPos.head(n=2)"
   ]
  },
  {
   "cell_type": "code",
   "execution_count": 16,
   "metadata": {
    "scrolled": true
   },
   "outputs": [
    {
     "name": "stdout",
     "output_type": "stream",
     "text": [
      "/Users/abhayanandtripathi/Desktop/sorted_data/music/negative.review\n",
      "/Users/abhayanandtripathi/Desktop/sorted_data/music/positive.review\n",
      "/Users/abhayanandtripathi/Desktop/sorted_data/video/negative.review\n",
      "/Users/abhayanandtripathi/Desktop/sorted_data/video/positive.review\n",
      "/Users/abhayanandtripathi/Desktop/sorted_data/health_&_personal_care/negative.review\n",
      "/Users/abhayanandtripathi/Desktop/sorted_data/health_&_personal_care/positive.review\n",
      "/Users/abhayanandtripathi/Desktop/sorted_data/jewelry_&_watches/negative.review\n",
      "/Users/abhayanandtripathi/Desktop/sorted_data/jewelry_&_watches/positive.review\n",
      "/Users/abhayanandtripathi/Desktop/sorted_data/magazines/negative.review\n",
      "/Users/abhayanandtripathi/Desktop/sorted_data/magazines/positive.review\n",
      "/Users/abhayanandtripathi/Desktop/sorted_data/electronics/negative.review\n",
      "/Users/abhayanandtripathi/Desktop/sorted_data/electronics/positive.review\n",
      "/Users/abhayanandtripathi/Desktop/sorted_data/camera_&_photo/negative.review\n",
      "/Users/abhayanandtripathi/Desktop/sorted_data/camera_&_photo/positive.review\n",
      "/Users/abhayanandtripathi/Desktop/sorted_data/tools_&_hardware/negative.review\n",
      "/Users/abhayanandtripathi/Desktop/sorted_data/tools_&_hardware/positive.review\n",
      "/Users/abhayanandtripathi/Desktop/sorted_data/office_products/negative.review\n",
      "/Users/abhayanandtripathi/Desktop/sorted_data/office_products/positive.review\n",
      "/Users/abhayanandtripathi/Desktop/sorted_data/books/negative.review\n",
      "/Users/abhayanandtripathi/Desktop/sorted_data/books/positive.review\n",
      "/Users/abhayanandtripathi/Desktop/sorted_data/automotive/negative.review\n",
      "/Users/abhayanandtripathi/Desktop/sorted_data/automotive/positive.review\n",
      "/Users/abhayanandtripathi/Desktop/sorted_data/dvd/negative.review\n",
      "/Users/abhayanandtripathi/Desktop/sorted_data/dvd/positive.review\n",
      "/Users/abhayanandtripathi/Desktop/sorted_data/grocery/negative.review\n",
      "/Users/abhayanandtripathi/Desktop/sorted_data/grocery/positive.review\n",
      "/Users/abhayanandtripathi/Desktop/sorted_data/software/negative.review\n",
      "/Users/abhayanandtripathi/Desktop/sorted_data/software/positive.review\n",
      "/Users/abhayanandtripathi/Desktop/sorted_data/beauty/negative.review\n",
      "/Users/abhayanandtripathi/Desktop/sorted_data/beauty/positive.review\n",
      "/Users/abhayanandtripathi/Desktop/sorted_data/cell_phones_&_service/negative.review\n",
      "/Users/abhayanandtripathi/Desktop/sorted_data/cell_phones_&_service/positive.review\n",
      "/Users/abhayanandtripathi/Desktop/sorted_data/gourmet_food/negative.review\n",
      "/Users/abhayanandtripathi/Desktop/sorted_data/gourmet_food/positive.review\n",
      "/Users/abhayanandtripathi/Desktop/sorted_data/kitchen_&_housewares/negative.review\n",
      "/Users/abhayanandtripathi/Desktop/sorted_data/kitchen_&_housewares/positive.review\n",
      "/Users/abhayanandtripathi/Desktop/sorted_data/toys_&_games/negative.review\n",
      "/Users/abhayanandtripathi/Desktop/sorted_data/toys_&_games/positive.review\n",
      "/Users/abhayanandtripathi/Desktop/sorted_data/sports_&_outdoors/negative.review\n",
      "/Users/abhayanandtripathi/Desktop/sorted_data/sports_&_outdoors/positive.review\n",
      "/Users/abhayanandtripathi/Desktop/sorted_data/musical_instruments/negative.review\n",
      "/Users/abhayanandtripathi/Desktop/sorted_data/musical_instruments/positive.review\n",
      "/Users/abhayanandtripathi/Desktop/sorted_data/outdoor_living/negative.review\n",
      "/Users/abhayanandtripathi/Desktop/sorted_data/outdoor_living/positive.review\n",
      "/Users/abhayanandtripathi/Desktop/sorted_data/apparel/negative.review\n",
      "/Users/abhayanandtripathi/Desktop/sorted_data/apparel/positive.review\n",
      "/Users/abhayanandtripathi/Desktop/sorted_data/computer_&_video_games/negative.review\n",
      "/Users/abhayanandtripathi/Desktop/sorted_data/computer_&_video_games/positive.review\n"
     ]
    }
   ],
   "source": [
    "import os\n",
    "indir = '/Users/abhayanandtripathi/Desktop/sorted_data/'\n",
    "PositifReviews = []\n",
    "NegativeReviews = []\n",
    "for root, dirs, filenames in os.walk(indir):\n",
    "    for f in filenames:\n",
    "        if f == \"positive.review\":\n",
    "            log = open(os.path.join(root, f), 'r',encoding=\"utf-8\",errors=\"ignore\").readlines()\n",
    "            PositifReviews.append(Processing_XML_Reviews_Dictionnaire(log))\n",
    "            print(os.path.join(root, f))\n",
    "        if f == \"negative.review\":\n",
    "            log = open(os.path.join(root, f), 'r',encoding=\"utf-8\",errors=\"ignore\").readlines()\n",
    "            NegativeReviews.append(Processing_XML_Reviews_Dictionnaire(log))\n",
    "            print(os.path.join(root, f))\n",
    "\n"
   ]
  },
  {
   "cell_type": "code",
   "execution_count": 17,
   "metadata": {
    "scrolled": true
   },
   "outputs": [
    {
     "name": "stdout",
     "output_type": "stream",
     "text": [
      "24\n",
      "24\n",
      "1000\n",
      "1000\n"
     ]
    }
   ],
   "source": [
    "print(len(PositifReviews))\n",
    "print(len(NegativeReviews))\n",
    "print(len(PositifReviews[1]))\n",
    "print(len(PositifReviews[2]))"
   ]
  },
  {
   "cell_type": "code",
   "execution_count": 18,
   "metadata": {},
   "outputs": [
    {
     "name": "stdout",
     "output_type": "stream",
     "text": [
      "['unique_id/B00008QS9V:it\\'s_a_mighty_wind_a_blowin\\'!:carla_j._dinsmore_\"acoustic_music_junkie\"\\n', 'asin/B00008QS9V\\n', 'product_name/A Mighty Wind: The Album: Music: Various Artists\\n', 'helpful/\\n', 'rating/5.0\\n', \"title/It's a Mighty Wind a blowin'!\\n\", 'date/July 5, 2006\\n', 'reviewer/Carla J. Dinsmore \"Acoustic music junkie\"\\n', 'reviewer_location/Wilmington, DE USA\\n', \"review_text/This is a wonderful album, that evokes memories of the 60's folk boom, yet contains original songs. I was amazed at the fantastic harmonies and musical arrangements.\\n\"]\n",
      "['unique_id/6301968972:just_as_true_today!:gary_d._thomas_\"brass_crass\"\\n', 'asin/6301968972\\n', 'product_name/Hucksters: Video: Clark Gable,Deborah Kerr,Sydney Greenstreet,Adolphe Menjou,Ava Gardner,Keenan Wynn,Edward Arnold,Aubrey Mather,Richard Gaines,Frank Albertson,Douglas Fowley,Clinton Sundberg,Gloria Holden,Connie Gilchrist,Kathryn Card,Lillian Bronson,Vera Marshe,Ralph Bunker,Virginia Dale,Jimmy Conlin,Jack Conway\\n', 'helpful/1 of 1\\n', 'rating/5.0\\n', 'title/Just as true today!\\n', 'date/August 4, 2000\\n', 'reviewer/Gary D. Thomas \"Brass Crass\"\\n', 'reviewer_location/Studio City, CaliforniA\\n', 'review_text/Picture this: Clark Gable and the whole passle of MGM stars and starlets!  Spins a great story, and all this in 1947, could be today, except they  dressed better. You will not forget the characterizations, especially  Sydney Greenstreet, eat your heart out Eddie Murphy, just a marvy little  film for all ages (God I love cliches!\\n']\n",
      "['unique_id/B00006WNPU:omron_body_fat_analyyzer:nicholas_tompanis\\n', 'asin/B00006WNPU\\n', 'product_name/Omron HBF-306 Body Fat Analyzer: Health & Personal Care\\n', 'helpful/5 of 6\\n', 'rating/5.0\\n', 'title/Omron Body Fat Analyyzer\\n', 'date/August 19, 2006\\n', 'reviewer/Nicholas Tompanis\\n', 'reviewer_location/Virginia Beach, VA\\n', \"review_text/I've found the Omron very easy and practical to use.  It gives very good estimates of body fat percentages and BMI (body mass index) which can easily be used to illustrate a personal rate of progress for any dietary or weight training program.  For the money, it would be difficult to find something better\\n\"]\n",
      "['unique_id/B000EX8N3E:outstanding_in_almost_every_way:b._siao\\n', 'asin/B000EX8N3E\\n', \"product_name/Casio Men's G-Shock Atomic Solar Watch # MTG920DA-1: Jewelry & Watches: Casio\\n\", 'helpful/\\n', 'rating/5.0\\n', 'title/Outstanding In Almost Every Way\\n', 'date/November 9, 2006\\n', 'reviewer/B. Siao\\n', 'reviewer_location/San Diego, CA\\n', 'review_text/Elegant yet tough, this particular Casio has a metal bracelet and is extremely comfortable to wear.  The display is sharp, clear, and very easy to read.  I only wish it had a thermometer.  The watch is big and looks very macho on your wrist\\n']\n",
      "['unique_id/B00005UMOQ:good_magazine:david_allen_hazlewood\\n', 'asin/B00005UMOQ\\n', 'product_name/Body + Soul: Magazines\\n', 'helpful/\\n', 'rating/5.0\\n', 'title/Good magazine\\n', 'date/November 15, 2006\\n', 'reviewer/David Allen Hazlewood\\n', 'reviewer_location/Tacoma, WA\\n', 'review_text/I was sceptical at first. But after getting a few of the magazines I really got into the way they looked at the Whole Body health and didn\\'t JUST focus on \"body\" exercises like most magazines\\n']\n",
      "['unique_id/B00008SCFU:fast_and_accurate:j._n._fong\\n', 'asin/B00008SCFU\\n', 'product_name/Kingston 256 MB Secure Digital Card ( SD/256 ): Electronics\\n', 'helpful/\\n', 'rating/5.0\\n', 'title/Fast and Accurate\\n', 'date/March 19, 2006\\n', 'reviewer/J. N. Fong\\n', 'reviewer_location/Castro Valley, CA  USA\\n', 'review_text/I received my Kingston 256MB SD card just as advertised.\\n']\n",
      "['unique_id/B00009R6TA:great__backpack:w._mutual\\n', 'asin/B00009R6TA\\n', 'product_name/Canon Deluxe Photo Backpack 200EG for Canon EOS SLR Cameras: Camera & Photo\\n', 'helpful/1 of 1\\n', 'rating/5.0\\n', 'title/great  backpack\\n', 'date/November 12, 2006\\n', 'reviewer/W. Mutual\\n', 'reviewer_location/California\\n', \"review_text/ This is a great back pack! If there is anything I would change it would be the logo on the front. It's brite and shinny, and I'd rather not advertise that I have a camera in there! I colored it in with a felt pen and it works great....... Overall, I love the backpack!!  \\n\"]\n",
      "['unique_id/B000630AR4:make_life_easier:m._i._guerrero_\"sunsad\"\\n', 'asin/B000630AR4\\n', 'product_name/Car Wash Wipes: Tools & Hardware\\n', 'helpful/1 of 1\\n', 'rating/5.0\\n', 'title/make life easier\\n', 'date/March 16, 2006\\n', 'reviewer/M. I. Guerrero \"sunsad\"\\n', 'reviewer_location/\\n', \"review_text/These are great cleaning wipes. Living here on the east coast when it snows and the salt and road dirt get all over the car it's not so easy to get to a car wash right away, pull one of these out and it cleans so well and leaves a great shine. My husband and I use these even after going to a car wash when you see water spots just 1 sheet will clean it all up. I hope they don't stop making them. Lately have not been able to find them in the stores....\\n\"]\n",
      "['unique_id/B0007LTJFO:excellent:book_reader_\"sam\"\\n', 'asin/B0007LTJFO\\n', 'product_name/Study Stand Wire Book Stand, 9-3/8\"x6\"x5-3/8\", Chrome Finish FEL10024: Office Products\\n', 'helpful/1 of 1\\n', 'rating/5.0\\n', 'title/Excellent\\n', 'date/August 12, 2006\\n', 'reviewer/Book Reader \"Sam\"\\n', 'reviewer_location/Baden, PA United States\\n', 'review_text/This wire stand will hold large books easily and will allow you to turn the pages with ease. I should have bought two of them.\\n']\n",
      "['unique_id/0375416811:founder_of_chick_lit:erin_oakes_\"avid_reader\"\\n', 'asin/0375416811\\n', 'product_name/Bridget Jones Diary: Books: Helen Fielding,Tracie Bennett\\n', 'helpful/\\n', 'rating/5.0\\n', 'title/Founder of chick lit\\n', 'date/August 24, 2006\\n', 'reviewer/Erin Oakes \"avid reader\"\\n', 'reviewer_location/Central PA\\n', \"review_text/Bridget Jones, modern day woman, brillant and doesn't know it, prone to accidents and mess ups but manages to come out of them.  \\n\"]\n",
      "['unique_id/B0009N4F6I:works_very_well:i_have_9_cats\\n', 'asin/B0009N4F6I\\n', 'product_name/Wedgie Cup Holder: Automotive\\n', 'helpful/1 of 1\\n', 'rating/5.0\\n', 'title/Works very well\\n', 'date/August 19, 2006\\n', 'reviewer/I have 9 cats\\n', 'reviewer_location/Dela where?\\n', \"review_text/I bought one today for my Mazda Tribute because I didn't like the built-in cup holders. It's actually very sturdy and fits very well.\\n\"]\n",
      "['unique_id/B0000TG9E2:excellent_fantasy,_with_provisos_:lonnie_e._holder_\"the_review\\'s_the_thing\"\\n', 'asin/B0000TG9E2\\n', \"product_name/Alice in Wonderland (Masterpiece Edition): DVD: Kathryn Beaumont,Ed Wynn,Richard Haydn,Sterling Holloway,Jerry Colonna,Verna Felton,J. Pat O'Malley,Bill Thompson,Heather Angel,Joseph Kearns,Larry Grey,Queenie Leonard,Dink Trout,Doris Lloyd,James MacDonald (II),Bill Lee (IV),Thurl Ravenscroft,Max Smith,Bob Hamlin,Don Barclay,Wilfred Jackson,Clyde Geronimi,Hamilton Luske\\n\", 'helpful/7 of 12\\n', 'rating/4.0\\n', 'title/Excellent Fantasy, with Provisos \\n', 'date/July 3, 2006\\n', 'reviewer/Lonnie E. Holder \"The Review\\'s the Thing\"\\n', 'reviewer_location/Sullivan, Illinois United States\\n', 'review_text/The story of \"Alice in Wonderland\" was controversial from the moment that the Reverend Charles Lutwidge Dodgson, aka Lewis Carroll, wrote it.  Some took the story as horror rather than a childhood fantasy.  Others consider Alice\\'s journey as a trip into or through insanity.  For better or worse, Disney did capture many of these elements, and the same criticisms of the books that form the basis of this film apply to the film.  However, there are also those who loved the books and loved the film.  Normally I recommend Disney classis without reservations.  In the case of this movie, I will keep a couple of provisos.\\n']\n",
      "['unique_id/B000CN7BNE:fantastically_refreshing!:sn\\n', 'asin/B000CN7BNE\\n', 'product_name/Zico Pure Coconut Water, Passion Fruit with Orange Peel Flavor, 11-Ounce Units (Pack of 12): Grocery\\n', 'helpful/\\n', 'rating/4.0\\n', 'title/fantastically refreshing!\\n', 'date/November 18, 2006\\n', 'reviewer/SN\\n', 'reviewer_location/Austin,TX\\n', \"review_text/I bought the natural flavour. Didn't find it very palatable the first time. But the next time was much better and now I am hooked on to it! An acquired taste, indeed! The 11-ounce is difficult to down in one go, though.\\n\"]\n",
      "['unique_id/B00081I76A:photoshop_cs2_wow!:orvsal\\n', 'asin/B00081I76A\\n', 'product_name/Adobe Photoshop CS2: Software\\n', 'helpful/\\n', 'rating/5.0\\n', 'title/Photoshop CS2 WOW!\\n', 'date/November 9, 2006\\n', 'reviewer/OrvSal\\n', 'reviewer_location/Sacramento,Ca\\n', 'review_text/I am amazed what this program can do. It is a big difference from PS 5.5. It is a new learning curve but well worth it. What used to take me hours to do is now an action and done in 2 minutes. Amazon had the best price for me from a source I trust ordering from. It is worth it\\n']\n",
      "['unique_id/B0009U8XUU:one_of_the_products_i_am_pleased_with!:maggierose\\n', 'asin/B0009U8XUU\\n', 'product_name/Jonathan Product Redo Freshen-Up Mist For Hair & Skin(R): Beauty\\n', 'helpful/9 of 14\\n', 'rating/4.0\\n', 'title/One of the products I am pleased with!\\n', 'date/July 3, 2005\\n', 'reviewer/maggierose\\n', 'reviewer_location/Long Island, NY\\n', 'review_text/I bought the Shampoo Theory and Condition Theory and this Redo Freshen-Up Mist. I have normal-type hair that needs to be washed every other day -- and if I use a lot of product, it needs to be washed every day. I have very sensitive skin too. This mist worked very well on my hair, definitely freshened it up and allowed me to restyle it with a quick blow dry. And it feels awesome on my skin. Well done, Jonathan\\n']\n",
      "[\"unique_id/B0006J419Q:best_earpiece_i've_owned:d._jackson\\n\", 'asin/B0006J419Q\\n', 'product_name/Jabra C150 Headset for 2.5mm Universal Headset Jack: Cell Phones & Service\\n', 'helpful/1 of 2\\n', 'rating/5.0\\n', \"title/Best earpiece I've owned\\n\", 'date/August 29, 2006\\n', 'reviewer/D. Jackson\\n', 'reviewer_location/Washington, DC USA\\n', \"review_text/I owned one of these for about three months, then it started to fall apart.  It was $30 at Best Buy.  I haven't replaced it, as $30 is a *lot*.\\n\"]\n",
      "['unique_id/B0000TVVEA:an_excellent_italian_gift_basket._.,:stewart__l\\n', 'asin/B0000TVVEA\\n', 'product_name/Italian Gift Basket - Classic (3.8 Pound) by igourmet.com: Gourmet Food\\n', 'helpful/5 of 11\\n', 'rating/5.0\\n', 'title/An excellent italian gift basket. .,\\n', 'date/November 24, 2005\\n', 'reviewer/stewart  L\\n', 'reviewer_location/flushing ,ny\\n', 'review_text/This italian gift basket,captures the feeling of italy,at it best...When you send this to family or friends,they will definitly,feel the love and warmth,of italy,and is sure to please...5 star recommended..\\n']\n",
      "['unique_id/B0002D31QU:immediate_results!:a._sanford\\n', 'asin/B0002D31QU\\n', 'product_name/Premier Gentle Spray Anti-Bark Dog Collar: Kitchen & Housewares\\n', 'helpful/1 of 1\\n', 'rating/5.0\\n', 'title/Immediate results!\\n', 'date/October 24, 2006\\n', 'reviewer/A. Sanford\\n', 'reviewer_location/Blacksburg, VA USA\\n', \"review_text/My grandma's 10 year old Yorkie just would never shut up.  He barked at our cat, at our parrot, and anything that moved really.  We bought this collar, and it worked perfectly and immediately.  One bark and it sprayed, and he would go running off...and stop barking!  I felt kinda bad for him, but his reaction was hilarious.  I couldn't stop laughing at him, poor thing.  However, he did learn that if the collar wasn't on, he wasn't going to get sprayed, so he would bark\\n\"]\n",
      "['unique_id/B0006I5G3M:now_a_clue_mystery_game_with_more_mysteries_to_solve!:melissa_lewis_\"sunflowergirl\"\\n', 'asin/B0006I5G3M\\n', 'product_name/Clue Mysteries: Toys &amp; Games\\n', 'helpful/7 of 9\\n', 'rating/4.0\\n', 'title/Now a clue mystery game with more mysteries to solve!\\n', 'date/May 31, 2006\\n', 'reviewer/Melissa Lewis \"Sunflowergirl\"\\n', 'reviewer_location/PA, USA\\n', 'review_text/Excellent product! I really appreciate the option to choose any of the 50 given mystery cases to solve. After playing all 50, you can just start all over again! Fun, fun, fun game! THANKS\\n']\n",
      "['unique_id/B00024J7C6:which_is_the_biggest_monster:man_from_u.k._\"inside_canon\"\\n', 'asin/B00024J7C6\\n', 'product_name/Toilet Monster: Sports &amp; Outdoors\\n', 'helpful/14 of 22\\n', 'rating/5.0\\n', 'title/Which is the biggest monster\\n', 'date/January 30, 2006\\n', 'reviewer/Man From U.K. \"Inside Canon\"\\n', 'reviewer_location/MD USA\\n', \"review_text/This monster is great...my old millionaire nan came over recently to tell us that she was about to take us out of her will because we had too much money already, and as luck would have it she had to use the bathroom during that same visit. We heard this scream from the bathroom and when we broke in we found our nan dead on the floor...luckily she hadn't gone to her attorney's office to sign the new will and we got our share after all...thanks toilet monster..you were worth the $15 + $5 shipping we paid for you\\n\"]\n",
      "[\"unique_id/B000CNTDY4:good_series_if_you're_interested_in_rock,_and_metal.:a._bailey\\n\", 'asin/B000CNTDY4\\n', 'product_name/Metal Method Complete Basic Course Level 1 Thru Level 6 on DVD Doug Marks Classic Rock: Musical Instruments\\n', 'helpful/1 of 1\\n', 'rating/4.0\\n', \"title/Good Series if you're interested in Rock, and Metal.\\n\", 'date/June 15, 2006\\n', 'reviewer/A. Bailey\\n', 'reviewer_location/New York, NY\\n', 'review_text/The videos are amazing! I would have to say better than amazing. The riffs, and solos that are taught are fun and work well with the level they correspond to, and I feel progresses well with a beginner and beyond at a consistant speed. The only problem is... that there is a grey area that overlaps the term beginner and intermediate so you may have to skip around the lessons to get on track with the course. For instance I decided to learn the riffs and practice the pull offs from the beginner DVDs and go straight into the intermediate levels of the course as the beginner sections where way to easy. But I would have to say if powerful riffs and electrifying solos is your passion then I know of no other course that will get you there quicker while having more fun doing it\\n']\n",
      "['unique_id/B00006WS5E:ignore_all_the_bad_press,_this_is_great:harriet_epstein_falkin_\"larry\"\\n', 'asin/B00006WS5E\\n', 'product_name/Brinkmann 810-5000-0 All-In-One Gas Outdoor Cooker: Outdoor Living\\n', 'helpful/\\n', 'rating/5.0\\n', 'title/Ignore all the bad press, this is great\\n', 'date/July 5, 2006\\n', 'reviewer/Harriet Epstein Falkin \"larry\"\\n', 'reviewer_location/Los Angeles, CA USA\\n', 'review_text/I use this BBQ with Mesquite lump charcoal and have grilled excellent steaks, and smoked some pork ribs, a chicken, a London Broil and a giant hamburger so far.  No marinade, just a dry rub and on the grill.  The book included has accurate cook times as long as you keep the temperature needle on the \"i\" in Ideal for as much of the cook time as possible, which is not hard to do.  Make sure to \"cure\" it before you use it.  This burns off all the smells and chemicals that are in it from the manufacturing. Cure it using the propane burner.   Easy to assemble too\\n']\n",
      "['unique_id/B0007QCQA4:good_sneakers:christopher_w._damico_\"macman\"\\n', 'asin/B0007QCQA4\\n', \"product_name/adidas Originals Men's Superstar II Basketball Shoe: Apparel\\n\", 'helpful/0 of 1\\n', 'rating/4.0\\n', 'title/GOOD SNEAKERS\\n', 'date/July 15, 2006\\n', 'reviewer/Christopher W. Damico \"MACMAN\"\\n', 'reviewer_location/NYC\\n', \"review_text/GOOD LOOKING KICKS IF YOUR KICKIN IT OLD SCHOOL LIKE ME. AND COMFORTABLE. AND RELATIVELY CHEAP. I'LL ALWAYS KEEP A PAIR OF STAN SMITH'S AROUND FOR WEEKENDS\\n\"]\n",
      "['unique_id/B0009Z3K9E:you_can\\'t_go_wrong_with_\"dawn_of_sorrow.\":k._m._bowles_\"i_like_pie\"\\n', 'asin/B0009Z3K9E\\n', 'product_name/Castlevania Dawn of Sorrow: Computer &amp; Video Games\\n', 'helpful/1 of 1\\n', 'rating/5.0\\n', 'title/You can\\'t go wrong with \"Dawn of Sorrow.\"\\n', 'date/October 7, 2006\\n', 'reviewer/K. M. Bowles \"I Like pie\"\\n', 'reviewer_location/VA Beach, VA\\n', \"review_text/Castlevania: Dawn of Sorrow is the latest iteration of Konami's decades-old franchise and the first to appear on the Nintendo DS. Don't let the title fool you; this really isn't the dawn of anything, except maybe a bunch more Castlevania games on the DS. And the subtitle here is simply a workable way to include the letters D and S in the title of the game, as seems to be the requirement for the platform at this point. Dawn of Sorrow actually takes place a year after the events in Aria of Sorrow, which came out in 2003 on the Game Boy Advance. If you've played that game--or if you've played just about any recent Castlevania game actually--you'll be right at home with Dawn of Sorrow, because it's basically the same game repackaged to fit the DS. That isn't a bad thing though, because the Castlevania games have long carried the torch for good, old-fashioned 2D side-scrolling gameplay, and Dawn of Sorrow keeps that flame burning as bright as ever. \\n\"]\n"
     ]
    }
   ],
   "source": [
    "df_24_Postif = pd.DataFrame(columns=['unique_id','asin','product_name','helpful','rating','title',\n",
    "                    'date','reviewer','reviewer_location','review_text'])\n",
    "df_24_Negatif = pd.DataFrame(columns=['unique_id','asin','product_name','helpful','rating','title',\n",
    "                    'date','reviewer','reviewer_location','review_text'])\n",
    "df = pd.DataFrame()\n",
    "\n",
    "for Rev in PositifReviews:\n",
    "    print(Rev['review1'])\n",
    "    df = Porcessing_Dictonnary_ToDataFrame(Rev)\n",
    "    df_24_Postif = pd.concat([df_24_Postif, df])\n",
    "    df.empty"
   ]
  },
  {
   "cell_type": "code",
   "execution_count": 19,
   "metadata": {},
   "outputs": [],
   "source": [
    "df1 = pd.DataFrame()\n",
    "for Rev in NegativeReviews:\n",
    "    df1 = Porcessing_Dictonnary_ToDataFrame(Rev)\n",
    "    df_24_Negatif = pd.concat([df_24_Negatif, df1])\n",
    "    df1.empty"
   ]
  },
  {
   "cell_type": "code",
   "execution_count": 20,
   "metadata": {
    "scrolled": true
   },
   "outputs": [
    {
     "name": "stdout",
     "output_type": "stream",
     "text": [
      "20972\n",
      "15676\n"
     ]
    },
    {
     "data": {
      "text/html": [
       "<div>\n",
       "<style scoped>\n",
       "    .dataframe tbody tr th:only-of-type {\n",
       "        vertical-align: middle;\n",
       "    }\n",
       "\n",
       "    .dataframe tbody tr th {\n",
       "        vertical-align: top;\n",
       "    }\n",
       "\n",
       "    .dataframe thead th {\n",
       "        text-align: right;\n",
       "    }\n",
       "</style>\n",
       "<table border=\"1\" class=\"dataframe\">\n",
       "  <thead>\n",
       "    <tr style=\"text-align: right;\">\n",
       "      <th></th>\n",
       "      <th>unique_id</th>\n",
       "      <th>asin</th>\n",
       "      <th>product_name</th>\n",
       "      <th>helpful</th>\n",
       "      <th>rating</th>\n",
       "      <th>title</th>\n",
       "      <th>date</th>\n",
       "      <th>reviewer</th>\n",
       "      <th>reviewer_location</th>\n",
       "      <th>review_text</th>\n",
       "    </tr>\n",
       "  </thead>\n",
       "  <tbody>\n",
       "    <tr>\n",
       "      <td>count</td>\n",
       "      <td>15676</td>\n",
       "      <td>15676</td>\n",
       "      <td>15676</td>\n",
       "      <td>15676</td>\n",
       "      <td>15676</td>\n",
       "      <td>15676</td>\n",
       "      <td>15676</td>\n",
       "      <td>15676</td>\n",
       "      <td>15676</td>\n",
       "      <td>15676</td>\n",
       "    </tr>\n",
       "    <tr>\n",
       "      <td>unique</td>\n",
       "      <td>14564</td>\n",
       "      <td>10517</td>\n",
       "      <td>10373</td>\n",
       "      <td>900</td>\n",
       "      <td>2</td>\n",
       "      <td>12628</td>\n",
       "      <td>1637</td>\n",
       "      <td>12648</td>\n",
       "      <td>5462</td>\n",
       "      <td>13784</td>\n",
       "    </tr>\n",
       "    <tr>\n",
       "      <td>top</td>\n",
       "      <td>B00005OLX1:sucks_sucks:jason</td>\n",
       "      <td>B00099QAQK</td>\n",
       "      <td>TIME [6-month subscription] [with $5 Bonus]: M...</td>\n",
       "      <td></td>\n",
       "      <td>1.0</td>\n",
       "      <td>Disappointed</td>\n",
       "      <td>January 9, 2007</td>\n",
       "      <td></td>\n",
       "      <td></td>\n",
       "      <td></td>\n",
       "    </tr>\n",
       "    <tr>\n",
       "      <td>freq</td>\n",
       "      <td>4</td>\n",
       "      <td>18</td>\n",
       "      <td>20</td>\n",
       "      <td>2542</td>\n",
       "      <td>9890</td>\n",
       "      <td>72</td>\n",
       "      <td>208</td>\n",
       "      <td>422</td>\n",
       "      <td>3389</td>\n",
       "      <td>61</td>\n",
       "    </tr>\n",
       "  </tbody>\n",
       "</table>\n",
       "</div>"
      ],
      "text/plain": [
       "                           unique_id        asin  \\\n",
       "count                          15676       15676   \n",
       "unique                         14564       10517   \n",
       "top     B00005OLX1:sucks_sucks:jason  B00099QAQK   \n",
       "freq                               4          18   \n",
       "\n",
       "                                             product_name helpful rating  \\\n",
       "count                                               15676   15676  15676   \n",
       "unique                                              10373     900      2   \n",
       "top     TIME [6-month subscription] [with $5 Bonus]: M...            1.0   \n",
       "freq                                                   20    2542   9890   \n",
       "\n",
       "               title             date reviewer reviewer_location review_text  \n",
       "count          15676            15676    15676             15676       15676  \n",
       "unique         12628             1637    12648              5462       13784  \n",
       "top     Disappointed  January 9, 2007                                         \n",
       "freq              72              208      422              3389          61  "
      ]
     },
     "execution_count": 20,
     "metadata": {},
     "output_type": "execute_result"
    }
   ],
   "source": [
    "print(len(df_24_Postif))\n",
    "print(len(df_24_Negatif))\n",
    "df_24_Postif.describe()\n",
    "df_24_Negatif.describe()"
   ]
  },
  {
   "cell_type": "code",
   "execution_count": 21,
   "metadata": {},
   "outputs": [],
   "source": [
    "df_24_Postif['Class'] = \"pos\" \n",
    "df_24_Negatif['Class'] = \"neg\" \n",
    "Reviews  = pd.concat([df_24_Postif,df_24_Negatif])\n",
    "Reviews.drop('unique_id',axis=1,inplace=True)"
   ]
  },
  {
   "cell_type": "code",
   "execution_count": 22,
   "metadata": {},
   "outputs": [],
   "source": [
    "BooksPos.drop('unique_id',axis=1,inplace=True)\n",
    "BooksNeg.drop('unique_id',axis=1,inplace=True)"
   ]
  },
  {
   "cell_type": "code",
   "execution_count": 23,
   "metadata": {},
   "outputs": [],
   "source": [
    "BooksPos['Class'] = \"pos\" \n",
    "BooksNeg['Class'] = \"neg\" \n",
    "BooksReviews = pd.concat([BooksPos,BooksNeg])"
   ]
  },
  {
   "cell_type": "code",
   "execution_count": 24,
   "metadata": {},
   "outputs": [
    {
     "data": {
      "text/html": [
       "<div>\n",
       "<style scoped>\n",
       "    .dataframe tbody tr th:only-of-type {\n",
       "        vertical-align: middle;\n",
       "    }\n",
       "\n",
       "    .dataframe tbody tr th {\n",
       "        vertical-align: top;\n",
       "    }\n",
       "\n",
       "    .dataframe thead th {\n",
       "        text-align: right;\n",
       "    }\n",
       "</style>\n",
       "<table border=\"1\" class=\"dataframe\">\n",
       "  <thead>\n",
       "    <tr style=\"text-align: right;\">\n",
       "      <th></th>\n",
       "      <th>asin</th>\n",
       "      <th>product_name</th>\n",
       "      <th>helpful</th>\n",
       "      <th>rating</th>\n",
       "      <th>title</th>\n",
       "      <th>date</th>\n",
       "      <th>reviewer</th>\n",
       "      <th>reviewer_location</th>\n",
       "      <th>review_text</th>\n",
       "      <th>Class</th>\n",
       "    </tr>\n",
       "  </thead>\n",
       "  <tbody>\n",
       "    <tr>\n",
       "      <td>0</td>\n",
       "      <td>B00008QS9V</td>\n",
       "      <td>A Mighty Wind: The Album: Music: Various Artists</td>\n",
       "      <td></td>\n",
       "      <td>5.0</td>\n",
       "      <td>It's a Mighty Wind a blowin'!</td>\n",
       "      <td>July 5, 2006</td>\n",
       "      <td>Carla J. Dinsmore \"Acoustic music junkie\"</td>\n",
       "      <td>Wilmington, DE USA</td>\n",
       "      <td>This is a wonderful album, that evokes memorie...</td>\n",
       "      <td>pos</td>\n",
       "    </tr>\n",
       "    <tr>\n",
       "      <td>1</td>\n",
       "      <td>B00005JJ04</td>\n",
       "      <td>Sometime Tuesday Morning: Music: Johnny A.</td>\n",
       "      <td>4 of 4</td>\n",
       "      <td>5.0</td>\n",
       "      <td>Sometime Tuesday Morning defies description</td>\n",
       "      <td>May 3, 2005</td>\n",
       "      <td>Tim Withee</td>\n",
       "      <td>Auburn, WA United States</td>\n",
       "      <td>On one hand, this CD is a straight ahead instr...</td>\n",
       "      <td>pos</td>\n",
       "    </tr>\n",
       "  </tbody>\n",
       "</table>\n",
       "</div>"
      ],
      "text/plain": [
       "         asin                                      product_name helpful  \\\n",
       "0  B00008QS9V  A Mighty Wind: The Album: Music: Various Artists           \n",
       "1  B00005JJ04        Sometime Tuesday Morning: Music: Johnny A.  4 of 4   \n",
       "\n",
       "  rating                                        title          date  \\\n",
       "0    5.0                It's a Mighty Wind a blowin'!  July 5, 2006   \n",
       "1    5.0  Sometime Tuesday Morning defies description   May 3, 2005   \n",
       "\n",
       "                                    reviewer         reviewer_location  \\\n",
       "0  Carla J. Dinsmore \"Acoustic music junkie\"        Wilmington, DE USA   \n",
       "1                                 Tim Withee  Auburn, WA United States   \n",
       "\n",
       "                                         review_text Class  \n",
       "0  This is a wonderful album, that evokes memorie...   pos  \n",
       "1  On one hand, this CD is a straight ahead instr...   pos  "
      ]
     },
     "execution_count": 24,
     "metadata": {},
     "output_type": "execute_result"
    }
   ],
   "source": [
    "Reviews.head(n=2)"
   ]
  },
  {
   "cell_type": "code",
   "execution_count": 25,
   "metadata": {
    "scrolled": true
   },
   "outputs": [
    {
     "data": {
      "text/plain": [
       "\"This is a wonderful album, that evokes memories of the 60's folk boom, yet contains original songs. I was amazed at the fantastic harmonies and musical arrangements.\""
      ]
     },
     "execution_count": 25,
     "metadata": {},
     "output_type": "execute_result"
    }
   ],
   "source": [
    "Reviews.iloc[0,8]"
   ]
  },
  {
   "cell_type": "code",
   "execution_count": 27,
   "metadata": {},
   "outputs": [
    {
     "name": "stdout",
     "output_type": "stream",
     "text": [
      "Words  ['This', 'is', 'a', 'wonderful', 'album', ',', 'that', 'evokes', 'memories', 'of', 'the', '60', \"'s\", 'folk', 'boom', ',', 'yet', 'contains', 'original', 'songs', '.', 'I', 'was', 'amazed', 'at', 'the', 'fantastic', 'harmonies', 'and', 'musical', 'arrangements', '.']\n",
      "Sents  [\"This is a wonderful album, that evokes memories of the 60's folk boom, yet contains original songs.\", 'I was amazed at the fantastic harmonies and musical arrangements.']\n"
     ]
    }
   ],
   "source": [
    "from nltk.tokenize import word_tokenize,sent_tokenize\n",
    "from nltk.tokenize import RegexpTokenizer\n",
    "\n",
    "\n",
    "\n",
    "def tokenize_words_Sents(Sent):\n",
    "    return word_tokenize(Sent),sent_tokenize(Sent)\n",
    "def tokenize_words(Sent):\n",
    "    return word_tokenize(Sent)   \n",
    "def RegExpTokenizer(Sent):\n",
    "    tokenizer = RegexpTokenizer(r'\\w+')\n",
    "    return tokenizer.tokenize(Sent)\n",
    "\n",
    "Words,Sents = tokenize_words_Sents(Reviews.iloc[0,8])\n",
    "print(\"Words \",Words)\n",
    "print(\"Sents \",Sents)"
   ]
  },
  {
   "cell_type": "code",
   "execution_count": 29,
   "metadata": {},
   "outputs": [
    {
     "name": "stdout",
     "output_type": "stream",
     "text": [
      "{\"should've\", \"shouldn't\", \"weren't\", 'don', 'herself', 'd', \"hasn't\", \"shan't\", 'him', 'until', 'was', 'does', 'doesn', 'm', 'then', 'mightn', 'other', 'theirs', 'you', \"mightn't\", 'at', 'i', \"you'll\", 'again', 'these', 'to', 'all', \"hadn't\", \"it's\", 'there', 'not', 'doing', 'being', 'had', 'what', \"you're\", 'yours', 'ourselves', 'y', \"mustn't\", 'should', 'as', 'wouldn', 'she', 'our', \"couldn't\", 'shouldn', 'ours', 'down', \"don't\", 'with', \"needn't\", 'yourselves', \"wouldn't\", \"you'd\", 'hers', 'weren', 's', \"haven't\", 'themselves', 'whom', 'be', 'under', 'didn', 'against', 'are', 'can', 'who', 'any', 'each', 'very', 'yourself', 'a', 're', 'wasn', 'once', 'nor', 'won', 'this', 'and', 'ain', 'some', 'about', 'further', 'itself', 'off', \"wasn't\", 'll', 'here', 'which', \"you've\", 'their', \"she's\", 'most', 'did', 'during', 'below', 'between', \"didn't\", 'them', 'we', 'needn', 'haven', 'shan', 'of', 'over', 't', 'through', 'that', 'his', 'above', 'few', 'than', 'ma', 'too', 'mustn', \"isn't\", 'it', 'has', 'on', 'such', 'more', 'while', 'now', \"doesn't\", 'after', 'her', 'couldn', 'out', 'but', \"aren't\", 'why', 'have', 'is', 'before', 'those', \"won't\", 'the', 'same', 'do', 'or', 'been', 'he', 'because', 'up', 'so', 'they', 'himself', 'my', 'having', 'from', 'am', \"that'll\", 'in', 'your', 'for', 'just', 'an', 'isn', 'aren', 'its', 'into', 'where', 'only', 'when', 'how', 'no', 'hasn', 'myself', 've', 'by', 'both', 'me', 'own', 'o', 'will', 'hadn', 'were', 'if'}\n",
      "------------------Words ------------------------\n",
      "['This', 'is', 'a', 'wonderful', 'album', ',', 'that', 'evokes', 'memories', 'of', 'the', '60', \"'s\", 'folk', 'boom', ',', 'yet', 'contains', 'original', 'songs', '.', 'I', 'was', 'amazed', 'at', 'the', 'fantastic', 'harmonies', 'and', 'musical', 'arrangements', '.']\n",
      "------------------Words filltred---------------------\n",
      "['This', 'wonderful', 'album', ',', 'evokes', 'memories', '60', \"'s\", 'folk', 'boom', ',', 'yet', 'contains', 'original', 'songs', '.', 'I', 'amazed', 'fantastic', 'harmonies', 'musical', 'arrangements', '.']\n"
     ]
    }
   ],
   "source": [
    "from nltk.corpus import stopwords\n",
    "def Eliminate_Stop_Words(Sent):\n",
    "    stop_words = set(stopwords.words(\"english\"))\n",
    "    filtered_words = []\n",
    "    for w in Sent:\n",
    "        if w not in stop_words:\n",
    "            filtered_words.append(w)\n",
    "    return stop_words,filtered_words\n",
    "\n",
    "def Eliminate_Stop_Word(Sent):\n",
    "    stop_words = set(stopwords.words(\"english\"))\n",
    "    filtered_words = []\n",
    "    for w in Sent:\n",
    "        if w not in stop_words:\n",
    "            filtered_words.append(w)\n",
    "    return filtered_words\n",
    "\n",
    "stop_words,filtered_words = Eliminate_Stop_Words(Words)\n",
    "print(stop_words)\n",
    "print(\"------------------Words ------------------------\")\n",
    "print(Words)\n",
    "print(\"------------------Words filltred---------------------\")\n",
    "print(filtered_words)"
   ]
  },
  {
   "cell_type": "code",
   "execution_count": 31,
   "metadata": {},
   "outputs": [
    {
     "name": "stdout",
     "output_type": "stream",
     "text": [
      "['thi', 'wonder', 'album', ',', 'evok', 'memori', '60', \"'s\", 'folk', 'boom', ',', 'yet', 'contain', 'origin', 'song', '.', 'I', 'amaz', 'fantast', 'harmoni', 'music', 'arrang', '.']\n"
     ]
    }
   ],
   "source": [
    "from nltk.stem import PorterStemmer\n",
    "def Stemming_Words(Words):\n",
    "    Ps = PorterStemmer()\n",
    "    Stemmed_Words = []\n",
    "    for m in Words:\n",
    "        Stemmed_Words.append(Ps.stem(m))\n",
    "    return Stemmed_Words\n",
    "Stemmed_Words = Stemming_Words(filtered_words)\n",
    "print(Stemmed_Words)"
   ]
  },
  {
   "cell_type": "code",
   "execution_count": 33,
   "metadata": {
    "scrolled": false
   },
   "outputs": [
    {
     "name": "stdout",
     "output_type": "stream",
     "text": [
      "['This', 'wonderful', 'album', ',', 'evokes', 'memory', '60', \"'s\", 'folk', 'boom', ',', 'yet', 'contains', 'original', 'song', '.', 'I', 'amazed', 'fantastic', 'harmony', 'musical', 'arrangement', '.']\n"
     ]
    }
   ],
   "source": [
    "from nltk.stem import WordNetLemmatizer\n",
    "def Lemmatizing_Words(Words):\n",
    "    Lm = WordNetLemmatizer()\n",
    "    Lemmatized_Words = []\n",
    "    for m in Words:\n",
    "        Lemmatized_Words.append(Lm.lemmatize(m))\n",
    "    return Lemmatized_Words\n",
    "\n",
    "Lemmatized_Words = Lemmatizing_Words(filtered_words)\n",
    "print(Lemmatized_Words)"
   ]
  },
  {
   "cell_type": "code",
   "execution_count": 34,
   "metadata": {
    "scrolled": false
   },
   "outputs": [
    {
     "name": "stdout",
     "output_type": "stream",
     "text": [
      "['On', 'one', 'hand', 'this', 'CD', 'is', 'a', 'straight', 'ahead', 'instrumental', 'rocker', 'but', 'Johnny', 'A', 'really', 'shows', 'how', 'great', 'he', 'is', 'with', 'ballads', 'such', 'as', 'his', 'covers', 'of', 'Wichita', 'Lineman', 'and', 'Yes', 'it', 'Is', 'In', 'fact', 'those', 'two', 'ballads', 'alone', 'are', 'worth', 'the', 'price', 'of', 'the', 'CD', 'by', 'themselves']\n",
      "['On', 'one', 'hand', 'CD', 'straight', 'ahead', 'instrumental', 'rocker', 'Johnny', 'A', 'really', 'shows', 'great', 'ballads', 'covers', 'Wichita', 'Lineman', 'Yes', 'Is', 'In', 'fact', 'two', 'ballads', 'alone', 'worth', 'price', 'CD']\n",
      "['On', 'one', 'hand', 'CD', 'straight', 'ahead', 'instrumental', 'rocker', 'Johnny', 'A', 'really', 'show', 'great', 'ballad', 'cover', 'Wichita', 'Lineman', 'Yes', 'Is', 'In', 'fact', 'two', 'ballad', 'alone', 'worth', 'price', 'CD']\n"
     ]
    }
   ],
   "source": [
    "ListWords =  [RegExpTokenizer(m) for m in list(Reviews['review_text'])]\n",
    "print(ListWords[1])\n",
    "ListWords =  [Eliminate_Stop_Word(m) for m in ListWords]\n",
    "print(ListWords[1])\n",
    "ListWords = [Lemmatizing_Words(m) for m in ListWords]\n",
    "print(ListWords[1])\n"
   ]
  },
  {
   "cell_type": "code",
   "execution_count": 35,
   "metadata": {
    "scrolled": true
   },
   "outputs": [],
   "source": [
    "from nltk import FreqDist\n",
    "def Bag_Of_Words(ListWords):\n",
    "    all_words = []\n",
    "    for m in ListWords:\n",
    "        for w in m:\n",
    "            all_words.append(w.lower())\n",
    "    all_words = FreqDist(all_words)\n",
    "    return all_words"
   ]
  },
  {
   "cell_type": "code",
   "execution_count": 59,
   "metadata": {},
   "outputs": [
    {
     "name": "stdout",
     "output_type": "stream",
     "text": [
      "<class 'nltk.probability.FreqDist'> <FreqDist with 46670 samples and 1056696 outcomes>\n"
     ]
    }
   ],
   "source": [
    "print(type(all_words),all_words)"
   ]
  },
  {
   "cell_type": "code",
   "execution_count": 37,
   "metadata": {
    "scrolled": true
   },
   "outputs": [
    {
     "data": {
      "text/plain": [
       "<matplotlib.axes._subplots.AxesSubplot at 0x1a314d1550>"
      ]
     },
     "execution_count": 37,
     "metadata": {},
     "output_type": "execute_result"
    },
    {
     "data": {
      "image/png": "[encoded data removed]",
      "text/plain": [
       "<Figure size 432x288 with 1 Axes>"
      ]
     },
     "metadata": {},
     "output_type": "display_data"
    }
   ],
   "source": [
    "import seaborn as sns\n",
    "from sklearn.manifold import TSNE\n",
    "all_words = Bag_Of_Words(ListWords)\n",
    "count = []\n",
    "Words  = []\n",
    "for w in all_words.most_common(10):\n",
    "    count.append(w[1])\n",
    "    Words.append(w[0])\n",
    "sns.set_style(\"darkgrid\")\n",
    "sns.barplot(Words,count)"
   ]
  },
  {
   "cell_type": "code",
   "execution_count": 38,
   "metadata": {},
   "outputs": [],
   "source": [
    "def eliminate_irrelevent_Words(ListWords):\n",
    "    ListWords1 = [] \n",
    "    for m in ListWords:\n",
    "        l = [item.lower() for item in m]\n",
    "        ListWords1.append(l)\n",
    "    ListWords = ListWords1\n",
    "    for m in ListWords:\n",
    "        for w in m:\n",
    "            if len(w) <=3:\n",
    "                m.remove(w)\n",
    "            if w == 'this':\n",
    "                m.remove(w)\n",
    "    return ListWords\n",
    "def eliminate_irrelevent_Word(Word):\n",
    "    Word = RegExpTokenizer(Word)\n",
    "    Word = [item.lower() for item in Word]\n",
    "    for m in Word:\n",
    "        if len(m) <=3:\n",
    "            Word.remove(m)\n",
    "        if m == 'this':\n",
    "            Word.remove(m)\n",
    "    return Word"
   ]
  },
  {
   "cell_type": "code",
   "execution_count": 39,
   "metadata": {},
   "outputs": [
    {
     "name": "stdout",
     "output_type": "stream",
     "text": [
      "All Words length  46670\n"
     ]
    },
    {
     "data": {
      "image/png": "[encoded data removed]",
      "text/plain": [
       "<Figure size 1080x720 with 1 Axes>"
      ]
     },
     "metadata": {},
     "output_type": "display_data"
    },
    {
     "data": {
      "text/plain": [
       "<matplotlib.axes._subplots.AxesSubplot at 0x1a2fdf5050>"
      ]
     },
     "execution_count": 39,
     "metadata": {},
     "output_type": "execute_result"
    }
   ],
   "source": [
    "ListWords = eliminate_irrelevent_Words(ListWords)\n",
    "all_words = Bag_Of_Words(ListWords)\n",
    "print(\"All Words length \",len(all_words))\n",
    "%matplotlib inline\n",
    "sns.set()\n",
    "ax = plt.figure(figsize=(15,10))\n",
    "freqdist1 = FreqDist(all_words)\n",
    "freqdist1.plot(25)"
   ]
  },
  {
   "cell_type": "code",
   "execution_count": 40,
   "metadata": {},
   "outputs": [
    {
     "name": "stdout",
     "output_type": "stream",
     "text": [
      "(['wonderful', 'album', 'evokes', 'memory', 'folk', 'boom', 'contains', 'original', 'song', 'amazed', 'fantastic', 'harmony', 'musical', 'arrangement'], 'pos')\n"
     ]
    }
   ],
   "source": [
    "import random\n",
    "def Create_Document(Reviews,ListWords):\n",
    "    ListClass = list(Reviews['Class'])\n",
    "    Documents =  []\n",
    "    for m in range(len(ListWords)):\n",
    "        Documents.append((ListWords[m],ListClass[m]))\n",
    "    print(Documents[0])\n",
    "    random.shuffle(Documents)\n",
    "    return Documents\n",
    "Documents = Create_Document(Reviews,ListWords)\n"
   ]
  },
  {
   "cell_type": "code",
   "execution_count": 41,
   "metadata": {},
   "outputs": [
    {
     "name": "stdout",
     "output_type": "stream",
     "text": [
      "{'like': False, 'great': False, 'i': False, 'time': False, 'good': False, 'would': False, 'product': False, 'year': False, 'well': False, 'really': False, 'work': False, 'love': False, 'bought': False, 'even': False, 'first': False, 'much': False, 'movie': False, 'book': False, 'make': False, 'game': False, 'also': False, 'thing': False, 'better': False, 'little': False, 'look': False, 'best': False, 'back': False, 'used': False, 'could': False, 'they': False, 'magazine': False, 'still': False, 'price': False, 'camera': False, 'never': False, 'many': False, 'quality': False, 'made': False, 'think': False, 'know': False, 'read': False, 'problem': False, 'want': False, 'easy': False, 'find': False, 'film': False, 'take': False, 'review': False, 'one': False, 'money': False, 'month': False, 'people': False, 'need': False, 'amazon': False, 'nice': False, 'come': False, 'ever': False, 'item': False, 'found': False, 'every': False, 'watch': False, 'play': False, 'give': False, 'using': False, 'since': False, 'long': False, 'recommend': False, 'the': False, 'picture': False, 'purchased': False, 'right': False, 'there': False, 'however': False, 'another': False, 'quot': False, 'battery': False, 'last': False, 'without': False, 'looking': False, 'thought': False, 'enough': False, 'keep': False, 'small': False, 'album': False, 'feel': False, 'something': False, 'around': False, 'worth': False, 'tried': False, 'got': False, 'different': False, 'music': False, 'story': False, 'star': False, 'week': False, 'hard': False, 'sound': False, 'hair': False, 'phone': False, 'though': False}\n"
     ]
    }
   ],
   "source": [
    "def find_features(document,all_words,nbr_word):\n",
    "    Most_Comm_Word = []    \n",
    "    for w in all_words.most_common(nbr_word):\n",
    "        Most_Comm_Word.append(w[0])\n",
    "\n",
    "    word_features = Most_Comm_Word\n",
    "    words = RegExpTokenizer(document)\n",
    "    features = {}\n",
    "    for w in word_features:\n",
    "        features[w] = (w in words)\n",
    "\n",
    "    return features\n",
    "print(find_features('im road going to tunisia .',all_words,100))"
   ]
  },
  {
   "cell_type": "code",
   "execution_count": 42,
   "metadata": {},
   "outputs": [],
   "source": [
    "import pickle\n",
    "def Pickle_Save_Classifer(classifier,Test_Set):\n",
    "    Classifier_o = open('NaiveBayes Score Model :'+str(nltk.classify.accuracy(classifier, Test_Set)*100)+'.pickle','wb')\n",
    "    classifier = pickle.load(Classifier_o)\n",
    "    Classifier_o.close()\n",
    "    return classifier"
   ]
  },
  {
   "cell_type": "code",
   "execution_count": 43,
   "metadata": {},
   "outputs": [],
   "source": [
    "def Pickle_open_Classifer(path):\n",
    "    SaveClassifier = open(path,'rb')\n",
    "    pickle.dump(classifier,SaveClassifier)\n",
    "    SaveClassifier.close()"
   ]
  },
  {
   "cell_type": "code",
   "execution_count": 44,
   "metadata": {},
   "outputs": [],
   "source": [
    "def Features_Set(all_words,Documents,nbr_word):\n",
    "    featuresets = []\n",
    "    for rev,cat in Documents:\n",
    "        feature = find_features(' '.join(rev),all_words,nbr_word)\n",
    "        featuresets.append((feature,cat))\n",
    "    return featuresets"
   ]
  },
  {
   "cell_type": "code",
   "execution_count": 46,
   "metadata": {},
   "outputs": [],
   "source": [
    "featuresets = Features_Set(all_words,Documents,100)"
   ]
  },
  {
   "cell_type": "code",
   "execution_count": 47,
   "metadata": {},
   "outputs": [
    {
     "name": "stdout",
     "output_type": "stream",
     "text": [
      "({'like': False, 'great': False, 'i': False, 'time': False, 'good': False, 'would': False, 'product': False, 'year': False, 'well': False, 'really': False, 'work': False, 'love': False, 'bought': False, 'even': False, 'first': False, 'much': True, 'movie': False, 'book': False, 'make': False, 'game': False, 'also': False, 'thing': False, 'better': False, 'little': False, 'look': False, 'best': False, 'back': False, 'used': False, 'could': False, 'they': False, 'magazine': False, 'still': False, 'price': False, 'camera': False, 'never': False, 'many': False, 'quality': False, 'made': False, 'think': False, 'know': False, 'read': False, 'problem': False, 'want': False, 'easy': False, 'find': False, 'film': False, 'take': False, 'review': False, 'one': False, 'money': False, 'month': False, 'people': False, 'need': False, 'amazon': False, 'nice': False, 'come': False, 'ever': False, 'item': False, 'found': False, 'every': False, 'watch': False, 'play': False, 'give': False, 'using': False, 'since': False, 'long': False, 'recommend': False, 'the': False, 'picture': False, 'purchased': False, 'right': False, 'there': False, 'however': False, 'another': False, 'quot': False, 'battery': False, 'last': False, 'without': False, 'looking': False, 'thought': False, 'enough': False, 'keep': False, 'small': False, 'album': False, 'feel': False, 'something': False, 'around': False, 'worth': False, 'tried': False, 'got': False, 'different': False, 'music': False, 'story': False, 'star': False, 'week': False, 'hard': False, 'sound': False, 'hair': False, 'phone': False, 'though': False}, 'pos')\n"
     ]
    }
   ],
   "source": [
    "from sklearn.model_selection import train_test_split\n",
    "Train_Set, Test_Set = train_test_split(featuresets, test_size=0.33, random_state=42)\n",
    "print(Train_Set[26])"
   ]
  },
  {
   "cell_type": "code",
   "execution_count": 48,
   "metadata": {},
   "outputs": [],
   "source": [
    "with open(\"FeaturesSet100Words.pql\", \"wb\") as fp:   \n",
    "    pickle.dump(featuresets, fp)\n",
    "\n",
    "Reviews.to_csv(\"Reviews.csv\", sep='\\t', encoding='utf-8')\n"
   ]
  },
  {
   "cell_type": "markdown",
   "metadata": {},
   "source": [
    "** pickle works fine **"
   ]
  },
  {
   "cell_type": "code",
   "execution_count": 49,
   "metadata": {},
   "outputs": [
    {
     "name": "stdout",
     "output_type": "stream",
     "text": [
      "({'like': False, 'great': False, 'i': False, 'time': False, 'good': False, 'would': False, 'product': False, 'year': False, 'well': True, 'really': False, 'work': False, 'love': False, 'bought': False, 'even': False, 'first': False, 'much': False, 'movie': False, 'book': False, 'make': False, 'game': False, 'also': False, 'thing': False, 'better': False, 'little': False, 'look': False, 'best': False, 'back': False, 'used': False, 'could': False, 'they': False, 'magazine': False, 'still': False, 'price': False, 'camera': False, 'never': False, 'many': False, 'quality': False, 'made': False, 'think': False, 'know': False, 'read': False, 'problem': False, 'want': False, 'easy': False, 'find': False, 'film': False, 'take': False, 'review': True, 'one': False, 'money': False, 'month': False, 'people': False, 'need': False, 'amazon': False, 'nice': False, 'come': False, 'ever': False, 'item': False, 'found': False, 'every': False, 'watch': True, 'play': False, 'give': False, 'using': False, 'since': False, 'long': False, 'recommend': False, 'the': False, 'picture': False, 'purchased': False, 'right': False, 'there': False, 'however': False, 'another': False, 'quot': False, 'battery': False, 'last': False, 'without': False, 'looking': False, 'thought': False, 'enough': False, 'keep': False, 'small': True, 'album': False, 'feel': False, 'something': False, 'around': False, 'worth': False, 'tried': False, 'got': False, 'different': False, 'music': False, 'story': False, 'star': False, 'week': False, 'hard': False, 'sound': False, 'hair': False, 'phone': False, 'though': False}, 'pos')\n"
     ]
    }
   ],
   "source": [
    "with open(\"FeaturesSet100Words.pql\", \"rb\") as fp:  \n",
    "    b = pickle.load(fp)\n",
    "print(b[1])"
   ]
  },
  {
   "cell_type": "code",
   "execution_count": 50,
   "metadata": {},
   "outputs": [],
   "source": [
    "from sklearn.model_selection import train_test_split\n",
    "def model_Books():    \n",
    "    ListWords =  [RegExpTokenizer(m) for m in list(BooksReviews['review_text'])]\n",
    "    print(ListWords[1])\n",
    "    ListWords =  [Eliminate_Stop_Word(m) for m in ListWords]\n",
    "    print(ListWords[1])\n",
    "    ListWords = [Lemmatizing_Words(m) for m in ListWords]\n",
    "    print(ListWords[1])\n",
    "\n",
    "\n",
    "\n",
    "    ListWords1 = [] \n",
    "    for m in ListWords:\n",
    "        l = [item.lower() for item in m]\n",
    "        ListWords1.append(l)\n",
    "    ListWords = ListWords1\n",
    "    for m in ListWords:\n",
    "        for w in m:\n",
    "            if len(w) <=3:\n",
    "                m.remove(w)\n",
    "            if w == 'this':\n",
    "                m.remove(w)\n",
    "                \n",
    "    AllWordsBooks = Bag_Of_Words(ListWords)\n",
    "    len(AllWordsBooks)\n",
    "    Documents = Create_Document(BooksReviews,ListWords)\n",
    "    featuresets = Features_Set(all_words,Documents,3000)\n",
    "    Train_Set, Test_Set = train_test_split(\n",
    "        featuresets, test_size=0.33, random_state=42)\n",
    "    return Train_Set,Test_Set"
   ]
  },
  {
   "cell_type": "code",
   "execution_count": 51,
   "metadata": {},
   "outputs": [
    {
     "name": "stdout",
     "output_type": "stream",
     "text": [
      "['I', 'am', 'ordering', 'copies', 'for', 'all', '23', 'middle', 'school', 'principals', 'and', 'the', 'two', 'assistant', 'principals', 'leading', 'two', 'middle', 'school', 'programs', 'in', 'the', 'Milwaukee', 'Public', 'Schools', 'system', 'We', 'will', 'use', 'Wheatley', 's', 'book', 'as', 'the', 'primary', 'resource', 'for', 'our', 'professional', 'growth', 'at', 'our', 'MPS', 'Middle', 'School', 'Principals', 'Collaborative', 'institute', 'August', '9', '11', '1999', 'We', 'are', 'not', 'just', 'concerned', 'with', 'reform', 'we', 'seek', 'renewal', 'as', 'well', 'Wheatley', 'provides', 'the', 'basis', 'She', 'notes', 'that', 'Einstein', 'said', 'that', 'a', 'problem', 'cannot', 'be', 'solved', 'from', 'the', 'same', 'consciousness', 'that', 'created', 'it', 'The', 'entire', 'book', 'is', 'a', 'marvelous', 'exploration', 'of', 'this', 'philosophy']\n",
      "['I', 'ordering', 'copies', '23', 'middle', 'school', 'principals', 'two', 'assistant', 'principals', 'leading', 'two', 'middle', 'school', 'programs', 'Milwaukee', 'Public', 'Schools', 'system', 'We', 'use', 'Wheatley', 'book', 'primary', 'resource', 'professional', 'growth', 'MPS', 'Middle', 'School', 'Principals', 'Collaborative', 'institute', 'August', '9', '11', '1999', 'We', 'concerned', 'reform', 'seek', 'renewal', 'well', 'Wheatley', 'provides', 'basis', 'She', 'notes', 'Einstein', 'said', 'problem', 'cannot', 'solved', 'consciousness', 'created', 'The', 'entire', 'book', 'marvelous', 'exploration', 'philosophy']\n",
      "['I', 'ordering', 'copy', '23', 'middle', 'school', 'principal', 'two', 'assistant', 'principal', 'leading', 'two', 'middle', 'school', 'program', 'Milwaukee', 'Public', 'Schools', 'system', 'We', 'use', 'Wheatley', 'book', 'primary', 'resource', 'professional', 'growth', 'MPS', 'Middle', 'School', 'Principals', 'Collaborative', 'institute', 'August', '9', '11', '1999', 'We', 'concerned', 'reform', 'seek', 'renewal', 'well', 'Wheatley', 'provides', 'basis', 'She', 'note', 'Einstein', 'said', 'problem', 'cannot', 'solved', 'consciousness', 'created', 'The', 'entire', 'book', 'marvelous', 'exploration', 'philosophy']\n",
      "(['bridget', 'jones', 'modern', 'woman', 'brillant', 'know', 'prone', 'accident', 'mess', 'manages', 'come'], 'pos')\n"
     ]
    },
    {
     "data": {
      "text/plain": [
       "1340"
      ]
     },
     "execution_count": 51,
     "metadata": {},
     "output_type": "execute_result"
    }
   ],
   "source": [
    "Train_Set, Test_Set = model_Books()\n",
    "len(Train_set)"
   ]
  },
  {
   "cell_type": "code",
   "execution_count": 60,
   "metadata": {},
   "outputs": [
    {
     "name": "stderr",
     "output_type": "stream",
     "text": [
      "IOPub data rate exceeded.\n",
      "The notebook server will temporarily stop sending output\n",
      "to the client in order to avoid crashing it.\n",
      "To change this limit, set the config variable\n",
      "`--NotebookApp.iopub_data_rate_limit`.\n",
      "\n",
      "Current values:\n",
      "NotebookApp.iopub_data_rate_limit=1000000.0 (bytes/sec)\n",
      "NotebookApp.rate_limit_window=3.0 (secs)\n",
      "\n"
     ]
    }
   ],
   "source": [
    "print(Train_Set)"
   ]
  },
  {
   "cell_type": "code",
   "execution_count": 63,
   "metadata": {},
   "outputs": [],
   "source": [
    "import nltk.classify.util\n",
    "from nltk.classify import NaiveBayesClassifier\n",
    "from nltk.corpus import names\n",
    "\n",
    "def NaiveBayes_Model(Train_Set,Test_Set):\n",
    "    classifier = NaiveBayesClassifier.train(Train_Set) \n",
    "    Important10 = classifier.show_most_informative_features(10)\n",
    "    accuracy = nltk.classify.accuracy(classifier, Test_Set)*100\n",
    "    return classifier,Important10,accuracy"
   ]
  },
  {
   "cell_type": "code",
   "execution_count": 64,
   "metadata": {
    "scrolled": true
   },
   "outputs": [
    {
     "name": "stdout",
     "output_type": "stream",
     "text": [
      "Most Informative Features\n",
      "                  hoping = True              neg : pos    =     13.4 : 1.0\n",
      "                  boring = True              neg : pos    =     12.2 : 1.0\n",
      "          disappointment = True              neg : pos    =     11.3 : 1.0\n",
      "                  social = True              pos : neg    =      9.4 : 1.0\n",
      "                   fails = True              neg : pos    =      7.9 : 1.0\n",
      "                  unless = True              neg : pos    =      7.2 : 1.0\n",
      "           unfortunately = True              neg : pos    =      7.0 : 1.0\n",
      "                   bible = True              pos : neg    =      6.8 : 1.0\n",
      "                  unique = True              pos : neg    =      6.8 : 1.0\n",
      "                  finish = True              neg : pos    =      6.8 : 1.0\n",
      "None\n",
      "Classifier accuracy percent: 75.75757575757575\n"
     ]
    }
   ],
   "source": [
    "classifier,Important10,accuracy = NaiveBayes_Model(Train_Set,Test_Set)\n",
    "print(Important10)\n",
    "print(\"Classifier accuracy percent:\",accuracy)\n"
   ]
  },
  {
   "cell_type": "code",
   "execution_count": 54,
   "metadata": {},
   "outputs": [],
   "source": [
    "def Word_Prep(Sent):\n",
    "    Words =  RegExpTokenizer(test_sentence)\n",
    "    Words =  Eliminate_Stop_Word(Words)\n",
    "    Words = Lemmatizing_Words(Words)\n",
    "    print(Words)\n",
    "    Words = eliminate_irrelevent_Word(' '.join(Words))\n",
    "    return ' '.join(Words)\n",
    "    "
   ]
  },
  {
   "cell_type": "code",
   "execution_count": 55,
   "metadata": {},
   "outputs": [
    {
     "name": "stdout",
     "output_type": "stream",
     "text": [
      "['This', 'best', 'band', 'I', 'ever', 'heard']\n"
     ]
    },
    {
     "data": {
      "text/plain": [
       "'pos'"
      ]
     },
     "execution_count": 55,
     "metadata": {},
     "output_type": "execute_result"
    }
   ],
   "source": [
    "test_sentence = \"This is the best band I've ever heard!\"\n",
    "test_sent_features = find_features(Word_Prep(test_sentence),all_words,3000)\n",
    "classifier.classify(test_sent_features)"
   ]
  },
  {
   "cell_type": "code",
   "execution_count": 56,
   "metadata": {},
   "outputs": [
    {
     "name": "stdout",
     "output_type": "stream",
     "text": [
      "['This', 'readable', 'book']\n"
     ]
    },
    {
     "data": {
      "text/plain": [
       "'pos'"
      ]
     },
     "execution_count": 56,
     "metadata": {},
     "output_type": "execute_result"
    }
   ],
   "source": [
    "test_sentence = \"This is a readable book\"\n",
    "test_sent_features = find_features(Word_Prep(test_sentence),all_words,3000)\n",
    "classifier.classify(test_sent_features)"
   ]
  },
  {
   "cell_type": "code",
   "execution_count": 57,
   "metadata": {},
   "outputs": [
    {
     "name": "stdout",
     "output_type": "stream",
     "text": [
      "['think', 'book', 'disappointing']\n"
     ]
    },
    {
     "data": {
      "text/plain": [
       "'neg'"
      ]
     },
     "execution_count": 57,
     "metadata": {},
     "output_type": "execute_result"
    }
   ],
   "source": [
    "test_sentence = \"i think that this book is very disappointing\"\n",
    "test_sent_features = find_features(Word_Prep(test_sentence),all_words,3000)\n",
    "classifier.classify(test_sent_features)"
   ]
  },
  {
   "cell_type": "code",
   "execution_count": 58,
   "metadata": {},
   "outputs": [
    {
     "name": "stdout",
     "output_type": "stream",
     "text": [
      "['If', 'sometimes', 'like', 'go', 'movie', 'fun', 'Wasabi', 'good', 'place', 'start']\n"
     ]
    },
    {
     "data": {
      "text/plain": [
       "'pos'"
      ]
     },
     "execution_count": 58,
     "metadata": {},
     "output_type": "execute_result"
    }
   ],
   "source": [
    "test_sentence = \"If you sometimes like to go to the movies to have fun, Wasabi is a good place to start.\"\n",
    "test_sent_features = find_features(Word_Prep(test_sentence),all_words,3000)\n",
    "classifier.classify(test_sent_features)"
   ]
  }
 ],
 "metadata": {
  "kernelspec": {
   "display_name": "Python 3",
   "language": "python",
   "name": "python3"
  },
  "language_info": {
   "codemirror_mode": {
    "name": "ipython",
    "version": 3
   },
   "file_extension": ".py",
   "mimetype": "text/x-python",
   "name": "python",
   "nbconvert_exporter": "python",
   "pygments_lexer": "ipython3",
   "version": "3.7.4"
  }
 },
 "nbformat": 4,
 "nbformat_minor": 2
}
